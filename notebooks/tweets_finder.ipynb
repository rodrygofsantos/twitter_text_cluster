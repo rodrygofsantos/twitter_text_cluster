{
 "cells": [
  {
   "cell_type": "code",
   "execution_count": 82,
   "metadata": {},
   "outputs": [],
   "source": [
    "import sys\n",
    "import tweepy\n",
    "sys.path.insert(1, '../../')\n",
    "import keys"
   ]
  },
  {
   "cell_type": "code",
   "execution_count": 83,
   "metadata": {},
   "outputs": [],
   "source": [
    "#api conf\n",
    "auth = tweepy.OAuthHandler(keys.cos_pub, keys.cos_sec)\n",
    "auth.set_access_token(keys.as_pub, keys.as_sec)\n",
    "\n",
    "api = tweepy.API(auth)\n"
   ]
  },
  {
   "cell_type": "code",
   "execution_count": 101,
   "metadata": {},
   "outputs": [
    {
     "name": "stdout",
     "output_type": "stream",
     "text": [
      "100\n",
      "['@JuhNicoletti dps do enem? kkkkkkkkkkkkk slk', 'RT @lovewinkko: FOFA-SE, TWITTER ME AJUDA!\\n\\nFIZ O ENEM EM FORTALEZA - CE, CENTRO UNIGRANDE SALA D112 E ME APAIXONEI POR UM MENINO QUE FEZ C…', 'RT @NadaiBruno: Achei que tinha ido mal no ENEM até ver isso https://t.co/DloYE1QlGe', 'Ônibus não para em ponto, e primos ficam sem fazer Enem https://t.co/AOKyZqOwwH', 'RT @lovewinkko: FOFA-SE, TWITTER ME AJUDA!\\n\\nFIZ O ENEM EM FORTALEZA - CE, CENTRO UNIGRANDE SALA D112 E ME APAIXONEI POR UM MENINO QUE FEZ C…', 'RT @idgaflaura: e a minha vo q postou um textão no face me desejando boa sorte para o enem com uma foto q nem sou eu https://t.co/OnuUfSRIpw', 'RT @cchupacu: essa menina saindo do enem e imediatamente pegando seu cigas 🤧🤧🤧😍😘😘😘😭😭😭😂☺️☺️👌👌👌🤧🤧🤧😪❤️😥😥😍😍😍 https://t.co/2vFZd2l26a', 'RT @tantotupiassu: Pela 1ª vez desde 2009, o ENEM não aborda a Ditadura Militar.\\n\\nEstratégia:\\n\\nNão podem apagar a história &gt; então apagam d…', 'RT @gabreu_3: enem é pra ganhar vaga na faculdade ou pra ganhar escoliose??? si fude maluco to todo torto', 'RT @mahstefanello: sai do enem do lado de um cara que tava falando bem assim para o amigo dele: \\n\\n- cara tem dia que nem água tem lá em cas…', 'RT @adrian_schmidth: Galera essa é Cecilia minha amiga e como vcs podem ver ela foi desclassificada do enem por uma coisa q mandaram ela fa…', 'RT @Pedro_Gomes255: Pós Enem https://t.co/mSRdrNLs6y', 'RT @laertebruno: É isso aí, alunos de escola particular, boicotem o ENEM! 😂😂😂 https://t.co/Lb0J1DVY4y', '@JornalOGlobo @RenzoSagratzki nós voltando do enem ai', 'RT @juliascarv_: aí namoral ajudem a denunciar!!!!! é CRIME usar o celular durante a prova do Enem além de que isso prejudica os outros par…', '@amandageorgiavc pos enem, semana de provas.....', 'RT @BolsonaroSP: Alguém com saudades de ENEM com questão sobre feminismo ideológico (Simone de Beauvoir) ou dicionário dos travestis?\\n\\nAlô…', 'RT @meufIamengao: Iluminado com brilho do além\\nEm clássico da show\\nIgual nerd no Enem 🎶🤣⚫🔴\\n\\nQue paródia espetacular 👏🏼❤️ https://t.co/212HT…', 'RT @adrian_schmidth: Galera essa é Cecilia minha amiga e como vcs podem ver ela foi desclassificada do enem por uma coisa q mandaram ela fa…', 'RT @melbergeer: ENEM não testa o teu estudo, testa a tua resistência pra ler 90 textos', 'Enem in a nutshell https://t.co/i9EvmLV434', 'RT @Pedro_Gomes255: Pós Enem https://t.co/mSRdrNLs6y', 'RT @terraplanissima: Enem injusto para quem estudou o ano inteiro!\\nQuestões subjetivas, ausência dos temas mais importantes em história ger…', 'RT @nextlevelenzo: respondi o enem assim https://t.co/YYEVLAxCND', 'RT @AlbertoAcostaE: CONTENTO\\n\\nMi libro BEM VIVER (BUEN VIVIR)\\napareció como referencia en una pregunta del ENEM,\\nel examen nacional de la e…', 'RT @dlovatoarts: ai galera já entendi se vocês tivessem o dinheiro que ela tem também entrariam na faculdade pública, porém eu penso que se…', 'Parabéns para você privilegiado que gastou as grana dos seus pais em escola particular e não passou enem kkkk', 'RT @Lc_Vib: Galera não desistam do ENEM \\nAqui na UFRJ tem strogonoff por R$2.00 https://t.co/qpWqbdCjQM', 'RT @adrian_schmidth: Galera essa é Cecilia minha amiga e como vcs podem ver ela foi desclassificada do enem por uma coisa q mandaram ela fa…', 'Enem servirá apenas para autoavaliação de quem faltou o primeiro dia https://t.co/v23Tz40pvV via @Primeira Hora', 'RT @julia_aucelio: confie no seu potencial, saia puta do enem e desconte sua raiva desenhando uma noite estrelada na porta https://t.co/id7…', 'RT @mpfdadepressao: Quer saber? A culpa dessa adulta que ~às vezes~ chora estudando para concurso é da criança e adolescente prodígio que f…', 'RT @mariaester039: E minha mãe que achou q o enem tinha pausa pro lanche https://t.co/fv9Nd7OwrF', 'RT @naclateix: galera não desistam do enem \\nAqui na UFF tem strogonoff por 70 centavos https://t.co/59dvkUvSUV', 'isso foi o que o lixo do @BolsonaroSP tweetou sobre o enem\\naté as matérias cobradas no enem esses energúmenos estão estragando \\n#aprendicomoenem #ImpeachmantBolsonaroUrgente #HojeENaRua https://t.co/uQkcct8pYw', 'RT @brenodaempada: “Se não passar no ENEM vou trabalhar tal lugar”\\n\\nAmados eu passei no enem, to terminando a faculdade e VENDO LANCHE. Se…', 'RT @bandejaoreviews: Galera não desistam do ENEM\\nNa UFRRJ tem isso https://t.co/TAzA94HeH2 https://t.co/ZlLaXLTPVE', 'RT @afjr_jr: Questão do Enem, *Claudia* ta de costa ou de frente? https://t.co/LYSwz1U373', 'RT @brenodaempada: “Se não passar no ENEM vou trabalhar tal lugar”\\n\\nAmados eu passei no enem, to terminando a faculdade e VENDO LANCHE. Se…', 'RT @dlovatoarts: vocês apoiando a Maisa MANO ELA NEM DEVIA FAZER O ENEM ela tem dinheiro pra pagar qualquer curso que quiser seja aqui no p…', 'RT @lovewinkko: FOFA-SE, TWITTER ME AJUDA!\\n\\nFIZ O ENEM EM FORTALEZA - CE, CENTRO UNIGRANDE SALA D112 E ME APAIXONEI POR UM MENINO QUE FEZ C…', 'RT @lovewinkko: FOFA-SE, TWITTER ME AJUDA!\\n\\nFIZ O ENEM EM FORTALEZA - CE, CENTRO UNIGRANDE SALA D112 E ME APAIXONEI POR UM MENINO QUE FEZ C…', 'RT @adrian_schmidth: Galera essa é Cecilia minha amiga e como vcs podem ver ela foi desclassificada do enem por uma coisa q mandaram ela fa…', 'RT @adrian_schmidth: Galera essa é Cecilia minha amiga e como vcs podem ver ela foi desclassificada do enem por uma coisa q mandaram ela fa…', 'RT @dlovatoarts: vocês apoiando a Maisa MANO ELA NEM DEVIA FAZER O ENEM ela tem dinheiro pra pagar qualquer curso que quiser seja aqui no p…', 'RT @lovewinkko: FOFA-SE, TWITTER ME AJUDA!\\n\\nFIZ O ENEM EM FORTALEZA - CE, CENTRO UNIGRANDE SALA D112 E ME APAIXONEI POR UM MENINO QUE FEZ C…', 'Festa Open bar me chamando e o ENEM me torturando, que injustiça', 'RT @porramuz: sua nota do enem nao te define mas a do uber sim', 'RT @dlovatoarts: vocês apoiando a Maisa MANO ELA NEM DEVIA FAZER O ENEM ela tem dinheiro pra pagar qualquer curso que quiser seja aqui no p…', 'RT @beeh_dona: A lesma do Enem desistindo da sua vida de lesma para se tornar um escargot https://t.co/8wkeZdaLoL', 'RT @umvesgo: vcs vao usar o enem no sisu ou nos caninos?????? kkkkkkkkkkkkkk essa foi pra vc minha loira odonto', 'RT @melbergeer: ENEM não testa o teu estudo, testa a tua resistência pra ler 90 textos', 'RT @heyvict: Do jeito que esse enem de ling/humanas so teve interpretação \\nAs questões de mat/natureza só vao ter aplicações do dia a dia…', 'RT @dlovatoarts: vocês apoiando a Maisa MANO ELA NEM DEVIA FAZER O ENEM ela tem dinheiro pra pagar qualquer curso que quiser seja aqui no p…', 'RT @Lc_Vib: Galera não desistam do ENEM \\nAqui na UFRJ tem strogonoff por R$2.00 https://t.co/qpWqbdCjQM', 'RT @Lc_Vib: Galera não desistam do ENEM \\nAqui na UFRJ tem strogonoff por R$2.00 https://t.co/qpWqbdCjQM', 'RT @naclateix: galera não desistam do enem \\nAqui na UFF tem strogonoff por 70 centavos https://t.co/59dvkUvSUV', 'RT @mariaester039: E minha mãe que achou q o enem tinha pausa pro lanche https://t.co/fv9Nd7OwrF', 'RT @TatiNefertari: No meu 1 Enem sai da prova sem fazer a redação me sentindo incapaz. No 2 eu fui virada pq fizemos um show de rap pra aju…', 'RT @VittorGuidoni: Todo ano o ENEM fica menos acessível pras pessoas\\n\\nta caindo educação religiosa, astronomia, umas coisas que NINGUÉM que…', 'man serio se fosse por mim eu nem ia nesse domingo me prestar a humilhação de fazer esta prova que é o Enem', 'Pessoas falando q teve questão de gramática nesse enem', 'RT @gabrielishot: começar a redação do enem assim https://t.co/j8109Js2rp', 'RT @VittorGuidoni: Todo ano o ENEM fica menos acessível pras pessoas\\n\\nta caindo educação religiosa, astronomia, umas coisas que NINGUÉM que…', 'RT @anamarias2: Giovana desapareceu no dia 03/11/19 quando foi fazer o ENEM na Faculdade Santo Agostinho (Teresina-PI). Ela não voltou pra…', 'RT @HistoriaNoPaint: 📃❗️ CORRENTE DA NOTA MÁXIMA EM CIÊNCIAS HUMANAS ❗️📃\\n\\nSe você curtir e dar um RT nessa postagem para divulgar o meu POD…', 'Você fala que faz curso de inglês em um lugar aí aparece nego dizendo que o inglês de onde vc faz n é bom e só compensa se for no lugar aonde fulano faz, vc diz q vai fazer curso pré enem em um lugar e aparece outro nego falando que n é tão bom quanto em outro lugar', 'RT @Pedro_Gomes255: Pós Enem https://t.co/mSRdrNLs6y', 'RT @mariaester039: E minha mãe que achou q o enem tinha pausa pro lanche https://t.co/fv9Nd7OwrF', 'RT @tantotupiassu: Pela 1ª vez desde 2009, o ENEM não aborda a Ditadura Militar.\\n\\nEstratégia:\\n\\nNão podem apagar a história &gt; então apagam d…', 'RT @Pedro_Gomes255: Pós Enem https://t.co/mSRdrNLs6y', 'RT @sensoinc: Ministro disse que o primeiro dia de provas do ENEM foi \"Ótimo\". Jornal canalha força manchete dizendo que frase era uma resp…', 'RT @adrian_schmidth: Galera essa é Cecilia minha amiga e como vcs podem ver ela foi desclassificada do enem por uma coisa q mandaram ela fa…', 'RT @MARCIOTOBIAS6: Os espaços vazios \"mitam\" na manifestação bolsopetista do Dudu no dia do ENEM.\\n\\nObs.: este é aquele dia em que eles dizi…', 'RT @wolfieztark: Enem me ensinou que no futuro essa criança vai sentir vergonha e processar os pais https://t.co/4KE7cdJ9vR', 'RT @umvesgo: vcs vao usar o enem no sisu ou nos caninos?????? kkkkkkkkkkkkkk essa foi pra vc minha loira odonto', 'RT @Pedro_Gomes255: Pós Enem https://t.co/mSRdrNLs6y', 'RT @paodeqj: enem domingão e eu: https://t.co/J3EKKAj8vV', 'RT @otakuzinh0: quem tirar uma nota ruim no #ENEM de hoje lembre-se q esses dois caras dormindo na prova é o hokage e o acessor do Hokage h…', 'RT @SentaLaClaudya: ENEM: a revolta da Vacina (1904)... \\nMeu cérebro:\\n#AprendiNoEnem https://t.co/mBiu0t7X68', 'RT @beeh_dona: A lesma do Enem desistindo da sua vida de lesma para se tornar um escargot https://t.co/8wkeZdaLoL', 'RT @porramuz: sua nota do enem nao te define mas a do uber sim', 'RT @idgaflaura: e a minha vo q postou um textão no face me desejando boa sorte para o enem com uma foto q nem sou eu https://t.co/OnuUfSRIpw', 'RT @ruggcaetano: DEMOCRATIZAÇÃO DO ACESSO AO CINEMA NO BRASIL É O TEMA DA REDAÇÃO DO PRIMEIRO ENEM DO PRESIDENTE QUE DESTRUIU A ANCINE', 'RT @adrian_schmidth: Galera essa é Cecilia minha amiga e como vcs podem ver ela foi desclassificada do enem por uma coisa q mandaram ela fa…', 'RT @Lc_Vib: Galera não desistam do ENEM \\nAqui na UFRJ tem strogonoff por R$2.00 https://t.co/qpWqbdCjQM', 'RT @idgaflaura: e a minha vo q postou um textão no face me desejando boa sorte para o enem com uma foto q nem sou eu https://t.co/OnuUfSRIpw', 'RT @Lc_Vib: Galera não desistam do ENEM \\nAqui na UFRJ tem strogonoff por R$2.00 https://t.co/qpWqbdCjQM', 'RT @adrian_schmidth: Galera essa é Cecilia minha amiga e como vcs podem ver ela foi desclassificada do enem por uma coisa q mandaram ela fa…', '@blxckgirls man a pessoa eh mt burra, tem tempo pra LER AS INSTRUÇÕES, tem site que explica muito bem como funciona a prova e etc, pra uma pessoa ter feito isso ela estava com 0% de preocupação com o enem, fez cagada e n quer assumir, eh fodah neh', 'RT @naclateix: galera não desistam do enem \\nAqui na UFF tem strogonoff por 70 centavos https://t.co/59dvkUvSUV', 'RT @beeh_dona: A lesma do Enem desistindo da sua vida de lesma para se tornar um escargot https://t.co/8wkeZdaLoL', 'RT @SentaLaClaudya: ENEM: a revolta da Vacina (1904)... \\nMeu cérebro:\\n#AprendiNoEnem https://t.co/mBiu0t7X68', 'RT @porramuz: sua nota do enem nao te define mas a do uber sim', 'RT @josiasteofilo: 😆\\nhttps://t.co/DUijW6UgzW', 'Enem me aguarde https://t.co/GyCVIbMlvl', 'RT @tantotupiassu: Pela 1ª vez desde 2009, o ENEM não aborda a Ditadura Militar.\\n\\nEstratégia:\\n\\nNão podem apagar a história &gt; então apagam d…', 'AINDA TO MAL POR CAUSA DO ENEM, EU SÓ PRECISO DE ESPAÇO E PAZ', 'vou fazer esse enem relaxadin', 'RT @cenourao__: eu definitivamente nao soube conciliar enem com pas e vou me fuder nos dois kkkkkkkk']\n"
     ]
    }
   ],
   "source": [
    "#getting data\n",
    "searchTerm = 'enem'\n",
    "tmpSearch = api.search(q = searchTerm,tweet_mode='extended', count = 100, language = 'pt-BR', retweeted = False, reply = False)\n",
    "\n",
    "\n",
    "txtResult = [];\n",
    "for prop in tmpSearch:\n",
    "    txtResult.append(prop._json['full_text'])\n",
    "\n",
    "print(len(txtResult))\n",
    "print(txtResult)\n"
   ]
  },
  {
   "cell_type": "code",
   "execution_count": 102,
   "metadata": {},
   "outputs": [],
   "source": [
    "#saving data in a txt file\n",
    "filePath = '../datasets/tweets/{0}.txt'.format(searchTerm)\n",
    "with open(filePath, 'wb') as file:\n",
    "    for line in txtResult:\n",
    "        entry = '{0}$\\n||\\n'.format(line)\n",
    "        file.write(entry.encode())\n",
    "    file.close()"
   ]
  },
  {
   "cell_type": "code",
   "execution_count": null,
   "metadata": {},
   "outputs": [],
   "source": []
  },
  {
   "cell_type": "code",
   "execution_count": null,
   "metadata": {},
   "outputs": [],
   "source": []
  }
 ],
 "metadata": {
  "kernelspec": {
   "display_name": "Python 3",
   "language": "python",
   "name": "python3"
  },
  "language_info": {
   "codemirror_mode": {
    "name": "ipython",
    "version": 3
   },
   "file_extension": ".py",
   "mimetype": "text/x-python",
   "name": "python",
   "nbconvert_exporter": "python",
   "pygments_lexer": "ipython3",
   "version": "3.7.4"
  }
 },
 "nbformat": 4,
 "nbformat_minor": 2
}
