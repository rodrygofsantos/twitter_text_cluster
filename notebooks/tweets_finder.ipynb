{
 "cells": [
  {
   "cell_type": "code",
   "execution_count": 18,
   "metadata": {},
   "outputs": [],
   "source": [
    "import sys\n",
    "import tweepy\n",
    "sys.path.insert(1, '../../')\n",
    "import keys"
   ]
  },
  {
   "cell_type": "code",
   "execution_count": 19,
   "metadata": {},
   "outputs": [],
   "source": [
    "#api conf\n",
    "auth = tweepy.OAuthHandler(keys.cos_pub, keys.cos_sec)\n",
    "auth.set_access_token(keys.as_pub, keys.as_sec)\n",
    "\n",
    "api = tweepy.API(auth)\n"
   ]
  },
  {
   "cell_type": "code",
   "execution_count": 22,
   "metadata": {},
   "outputs": [
    {
     "data": {
      "text/plain": [
       "['Fui na clinica e no posto da vacina na minha nenem , arrumei logo um escandalo',\n",
       " 'seguinte, tentei findar tudo, não deu certo, então eu falei que cortei o braço sem querer com uma faca.\\n\\nto aqui no hospital vo toma vacina p tétano\\n\\npelo menos n vo morre de tétano',\n",
       " '@vinevato_ Marcação do gado\\nVacina \\nManeijo \\nTeam Roping\\nPrecisa de informação viu',\n",
       " 'pais: meu filho nunca tomou vacina\\no filho: https://t.co/xQMkMLG0lG',\n",
       " 'O movimento anti-vacina tem uma única coisa boa: a seleção natural é garantia de seu fracasso.',\n",
       " 'Laís tomou 3 vacina na coxa 😭😭😭',\n",
       " 'Tomei a vacina de Tétano 5 anos atrasada mores',\n",
       " 'RT @SantosOpressivo: \"meu filho não tomou vacina e está normal hoje em dia\"\\n\\no filho: https://t.co/KPBvdWIwZd',\n",
       " 'RT @SoaresTrapp: Levando a amiga pra tomar vacina pra sarampo pq amiga de vdd se preocupa',\n",
       " 'tomei vacina de deboche esses dias kkkkk n to aguentando https://t.co/TeSL89Hlec',\n",
       " 'indo tomar a vacina pq 2019 e o retrocesso continua',\n",
       " '@carlos_jb_paz vacina da gripe para mim é fatal.',\n",
       " 'Meu filho nunca tomou vacina e é super normal\\nO filho: https://t.co/Xe9CbBtW1k',\n",
       " 'tmnc 4 vacina de uma vez só',\n",
       " 'Quando eu chegava em casa em dias como hoje, eu só abraçava a nega e ficava deitadinha quieta, agora com a beck eu choro de vdd, ela já mijou NA CAMA, mordeu meu óculos e eu n posso levar ela passear por causa das outras doses da vacina, tudo pra mim tá parecendo um caos hj',\n",
       " 'Inapari, cidadezinha peruana fronteiriça.\\n\\nMarque a entrada no país com RG ou Passaporte (CNH não vale) e cartão de vacina. \\n\\nAproveita p/ converter o real em soles.\\n\\nDe Inapari dá pra pegar um ônibus ou van até Puerto Maldonado dá 200km, por 50 soles.\\n\\nJá em Puerto Maldonado +',\n",
       " 'Se eu contar vocês não acreditam, eu desmaiei quando tomei vacina KKKKKK',\n",
       " '@_callmemai cara, eu tb era viciadona, usava desde a barriga da minha mãe haha ai fui no otorrino e ele me passou o generico do allegra e o noex e eu consegui desviciar, conversa com seu médico se vale a pena pra vc. Olha que ate vacina eu ja tomei pra tentar desviciar e não tinha funcionado',\n",
       " '@CoronelTadeu Isso que foi a revolta da vacina????!!!',\n",
       " 'RT @florestanjr: Em editorial, O Globo defendeu a credibilidade de seu jornalismo e a democracia ameaçada. Preferiu a vacina para imunizar-…',\n",
       " 'Coitada da minha princesa tomou a vacina de dois meses ❤️😢',\n",
       " '@cava13iro Nossa irmão, seus pais são do mov anti vacina?',\n",
       " 'RT @cahemota: A @gabi_moreira alertou para um ponto importante para os torcedores que se programam para decisão da Libertadores em Lima: é…',\n",
       " '@mundodabola Meu filho nunca tomou vacina e tá bem',\n",
       " 'Fui tomar a vacina da Febre Amarela pra passar pela Bolívia e descubro que tinha duas atrasadas kkk tome agulhada',\n",
       " 'Tô no postinho rezando pra q minha vacina de sarampo tenha sido devidamente tomada',\n",
       " 'RT @SantosOpressivo: \"meu filho não tomou vacina e está normal hoje em dia\"\\n\\no filho: https://t.co/KPBvdWIwZd',\n",
       " 'RT @oficialbolafora: “Meu filho nunca tomou vacina e está ótimo” \\n\\no filho: https://t.co/wNTSPHo9NX',\n",
       " 'n precisei tomar vacina🙌🏻🙌🏻🙌🏻🙌🏻',\n",
       " '@lauannekaren Somos duas , até hoje nunca levei Carolina pra tomar vacina sempre é minha mãe ou o pai dela kkkkk',\n",
       " 'Qdo q a gente para de chorar na hora da vacina?\\nPq eu choro de soluçar toda vez q a Lavínia chora de dor 😢',\n",
       " 'RT @SantosOpressivo: \"meu filho não tomou vacina e está normal hoje em dia\"\\n\\no filho: https://t.co/KPBvdWIwZd',\n",
       " 'Meu filho nunca tomou vacina, e esta bem \\n\\nO filho: https://t.co/JgtszOrEGP',\n",
       " 'A minha amiga  vai levar a vacina agora  e tem medo então disse me assim \\n\"Se eu não voltar eu amo te \"😅🤣',\n",
       " 'RT @onlyelisalds: compramos vacina pra sarna hoje de manhã, para os 20 gatos. Ração de gato eu consegui 14kg de doação e 7kg de ração de ca…',\n",
       " 'Choro juntinho com o Dante tomando vacina',\n",
       " 'Fui tomar vacina ne \\nMds eu to toda molinha',\n",
       " 'RT @oficialbolafora: “Meu filho nunca tomou vacina e está ótimo” \\n\\no filho: https://t.co/wNTSPHo9NX',\n",
       " 'RT @Gustavo71195266: A vacina q eu preciso tomar https://t.co/xIlvbbSp9a',\n",
       " '“Nunca dei vacina no meu filho e hoje em dia ele está ótimo!”\\n\\nO filho: https://t.co/kZK9VXNTGw',\n",
       " 'RT @SantosOpressivo: \"meu filho não tomou vacina e está normal hoje em dia\"\\n\\no filho: https://t.co/KPBvdWIwZd',\n",
       " 'RT @vetdadepre: - Ele tá com uns tremilique. Vacina? Dei sim, quando filhote, há uns 10 anos.',\n",
       " '@launicafisura se vacina, acho q vc pegou a síndrome da @gotamilf',\n",
       " 'RT @i_vianaa: #AprendiNoEnem\\nRevolta da vacina: a\\n\\nMinha cabeça: https://t.co/511ANf2Ih4',\n",
       " 'Que bela notícia Gurizada Medonha...\\n\\nhttps://t.co/kAfpuLvG1V',\n",
       " 'Vamo lá queimar uns vacina! 💪🏋️',\n",
       " 'Tive que tomar uma vacina, que merda odeio agulha',\n",
       " '“Não vou dar vacina pro meu filho”\\n-Seu pai deveria ter feito isso com você, pra vc n estar vivo hoje e falando merda.-Mariscal, Leo. ❤️❤️❤️',\n",
       " 'Meu vô so vai me dar um celular se eu tomar a vacina\\nhmmmm vou ficar sem celular',\n",
       " '[6/11 14:56] Brancão ❤: Pediram minha carteira de vacina oq e isso?\\n[6/11 14:56] Gabrielle😅: O nome ja ta dizendo né amado\\n\\nCansada',\n",
       " 'eu sou uma mulhe de 16 anos q tem medo de vacina.',\n",
       " 'meu irmão entro pra tomar vacina',\n",
       " 'RT @lhmandetta: Estamos comemorando 300 dias do Governo @jairbolsonaro. Algumas importantes conquistas (parte 1): investimento de cerca de…',\n",
       " 'Levando a amiga pra tomar vacina pra sarampo pq amiga de vdd se preocupa',\n",
       " '@elikatakimoto @SirleiFlesch Ouvi dizer que esta doença chama-se bolsonarismo, tem inclusive CID: 17.1... Mas tem vacina e cura: LULA LIVRE!!\\n#ForaBolsonaroESeuBandoDeCriminosos \\n#LulaPresoBrasilVendido',\n",
       " 'tomei a vacina dos quinze e o meu piercing do trágus doeu bem mais para furar, gastei muita lágrima atoa',\n",
       " 'Vou levar a nicolle pra tomar vacina aí meu coração sofre juntinho com ela',\n",
       " 'Q fase chata de vacina 💔',\n",
       " '@alexandrekalil não tem vacina dtpa em nenhum posto de BH. Sem previsão de chegar. Como faz?',\n",
       " 'Um dia lindo clima agradável e eu atacada da rinite, sério vou procurar tratamento nem que seja pela vacina.',\n",
       " '@mrsquintas @carlos_jb_paz Olha, aproveito a \"dica\" (metendo-me na conversa) . Não quero a vacina. Há quem a tenha levado e está de cama há 8 dias. Não se morre da doença, morre-se da cura. Se calhar não será bem assim, mas....',\n",
       " 'fiz a vacina da febre amarela grande dia',\n",
       " 'rebecca tomou vacina hj e tá um nojo',\n",
       " 'Meu filho nunca tomou vacina e continua normal.\\n\\nO filho: https://t.co/BTwEZ7swYF',\n",
       " 'Emilly ta tão chatinha por causa dessa vacina, to vendo q vai ser um sacrifício pra tirar as fotos hoje',\n",
       " '@pedrogelmini Vai levar belinha pra tomar vacina 🤣',\n",
       " '@alvesmths Aproveite e se vacina também rs',\n",
       " 'vim tomar vacina e eu to morrendo de medo',\n",
       " 'Cara q dor no meu coracao cada vez q eu levo o davi pra dar vacina',\n",
       " 'Vim trazer a Maísa pra tomar vacina',\n",
       " 'agora olha esse ser humano lindo, iluminado e o melhor amigo que deus poderia me dar, gente ele eh um príncipe o nome dele eh cabral ou meu irmão de vacina https://t.co/qvkhgBml7Z',\n",
       " 'Liz tomou vacina hj ficou quietinha',\n",
       " 'carai mano eu n quero tomar vacina vou chorar',\n",
       " 'RT @i_vianaa: #AprendiNoEnem\\nRevolta da vacina: a\\n\\nMinha cabeça: https://t.co/511ANf2Ih4',\n",
       " 'meu filho nao toma vacina \\no filho : https://t.co/Zc3IWARaS7',\n",
       " 'RT @oficialbolafora: “Meu filho nunca tomou vacina e está ótimo” \\n\\no filho: https://t.co/wNTSPHo9NX',\n",
       " 'Tomei vacina hj de manhã tipo arrastada, pq eu ficava enrolando lógico pra não ir, agr To sentindo efeito colateral da vacina affffffffff',\n",
       " '@grazilochdj Isso que dá não tomar a vacina',\n",
       " 'meu irmão vai tomar a vacina que faltava e é logo a que dói',\n",
       " '@ovoxotod Sim, mas uns 750 vindo de alguém que não sabe nem o que foi a revolta da vacina... Esse é o ponto, fora que ela não foi no chute',\n",
       " 'Tomei uma vacina q estou nem sentindo meu braço',\n",
       " 'RT @oficialbolafora: “Meu filho nunca tomou vacina e está ótimo” \\n\\no filho: https://t.co/wNTSPHo9NX',\n",
       " 'RT @oficialbolafora: “Meu filho nunca tomou vacina e está ótimo” \\n\\no filho: https://t.co/wNTSPHo9NX',\n",
       " 'https://t.co/b0k7duOpj1',\n",
       " 'Os piá acharam engraçado que não tive reação nenhuma quando fui tomar vacina kkkkk',\n",
       " 'RT @SantosOpressivo: \"meu filho não tomou vacina e está normal hoje em dia\"\\n\\no filho: https://t.co/KPBvdWIwZd',\n",
       " 'RT @SantosOpressivo: \"meu filho não tomou vacina e está normal hoje em dia\"\\n\\no filho: https://t.co/KPBvdWIwZd',\n",
       " 'E quero fazer o de calendário de vacina pq tô muito desatualizada',\n",
       " '\"minha filha nunca tomou vacina e é super normal\"\\n\\na filha: https://t.co/rmiH9OYnik',\n",
       " 'Sofrendo por antecedência porque amanhã preciso tomar a vacina da raiva kkk',\n",
       " '@adeodatojulia1 \"minha filha nunca tomou vacina e é super normal\"\\n\\na filha:',\n",
       " 'RT @RaimundoJohny: O governo vai lá, faz campanha DA DE GRAÇA a porra da vacina contra o sarampo e a população bosta não vai se vacinar e n…',\n",
       " 'Pisei num prego no centro de Maputo e o bagulho furou meu pé. Daí a primeira coisa que eu lembrei foi da vacina contra tétano. Ainda bem que eu tô vacinado kkk',\n",
       " 'Vou tomar uma vacina daqui a pouco. Alguém aí tem medo de levar picada?! 😂',\n",
       " 'E eu q vim tomar a vacina de sarampo e descobri q já tenho, mas vou ter q tomar a de febre amarela',\n",
       " 'RT @SantosOpressivo: \"meu filho não tomou vacina e está normal hoje em dia\"\\n\\no filho: https://t.co/KPBvdWIwZd',\n",
       " 'Meu filho não tomou vacina e é normal.\\n\\nO filho: https://t.co/6XWGolIuwL',\n",
       " 'Fui mordida por um gato filhote que não foi vacinado e era de rua. Fui no posto, onde me trataram com bastante descaso, mas consegui tomar uma vacina antirrabica. Não fui orientada sobre absolutamente nada. Nada mesmo.',\n",
       " 'Eu preciso tomar minha vacina, pq vou dormir fora de casa. Porém eu tenho 0 coragem de me vacinar a mim mesma',\n",
       " 'Alguem sabe onde tem a vacina pentavalente?']"
      ]
     },
     "execution_count": 22,
     "metadata": {},
     "output_type": "execute_result"
    }
   ],
   "source": [
    "#getting data\n",
    "searchTerm = 'vacina'\n",
    "tmpSearch = api.search(q = searchTerm,tweet_mode='extended', count = 100, language = 'pt-BR', retweeted = False, reply = False)\n",
    "\n",
    "\n",
    "txtResult = [];\n",
    "for prop in tmpSearch:\n",
    "    txtResult.append(prop._json['full_text'])\n",
    "\n",
    "len(txtResult)\n",
    "txtResult\n"
   ]
  },
  {
   "cell_type": "code",
   "execution_count": 23,
   "metadata": {},
   "outputs": [],
   "source": [
    "#saving data in a txt file\n",
    "filePath = '../datasets/tweets/{0}.txt'.format(searchTerm)\n",
    "with open(filePath, 'wb') as file:\n",
    "    for line in txtResult:\n",
    "        entry = '{0} \\n || \\n '.format(line) #tweets divisor\n",
    "        file.write(entry.encode())\n",
    "    file.close()"
   ]
  },
  {
   "cell_type": "code",
   "execution_count": null,
   "metadata": {},
   "outputs": [],
   "source": []
  },
  {
   "cell_type": "code",
   "execution_count": null,
   "metadata": {},
   "outputs": [],
   "source": []
  }
 ],
 "metadata": {
  "kernelspec": {
   "display_name": "Python 3",
   "language": "python",
   "name": "python3"
  },
  "language_info": {
   "codemirror_mode": {
    "name": "ipython",
    "version": 3
   },
   "file_extension": ".py",
   "mimetype": "text/x-python",
   "name": "python",
   "nbconvert_exporter": "python",
   "pygments_lexer": "ipython3",
   "version": "3.7.4"
  }
 },
 "nbformat": 4,
 "nbformat_minor": 2
}
