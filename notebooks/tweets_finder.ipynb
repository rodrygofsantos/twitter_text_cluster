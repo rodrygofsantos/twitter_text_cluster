{
 "cells": [
  {
   "cell_type": "code",
   "execution_count": 19,
   "metadata": {},
   "outputs": [],
   "source": [
    "import tweepy\n",
    "sys.path.insert(1, '../../')\n",
    "import keys\n",
    "from datetime import datetime"
   ]
  },
  {
   "cell_type": "code",
   "execution_count": 20,
   "metadata": {},
   "outputs": [],
   "source": [
    "#api conf\n",
    "auth = tweepy.OAuthHandler(keys.cos_pub, keys.cos_sec)\n",
    "auth.set_access_token(keys.as_pub, keys.as_sec)\n",
    "\n",
    "api = tweepy.API(auth)\n"
   ]
  },
  {
   "cell_type": "code",
   "execution_count": 21,
   "metadata": {},
   "outputs": [],
   "source": [
    "#getting data\n",
    "search_terms = [\"notebook\", 'celular', 'câmera', 'iphone', 'câmera', 'smartwatsh', 'memória', 'ventilador', 'aplicativo']\n",
    "def twitter_search(terms):\n",
    "    search_result = []\n",
    " \n",
    "    for e in search_terms:\n",
    "        partial_result = [];\n",
    "        api_result = api.search(q=e, tweet_mode='extended', count=100, lang='pt', retweeted=False, reply=False)\n",
    "\n",
    "        for prop in api_result:\n",
    "            partial_result.append(prop._json['full_text'])\n",
    "        search_result.extend(partial_result)\n",
    "        \n",
    "    return search_result\n",
    "t = twitter_search(search_terms)"
   ]
  },
  {
   "cell_type": "code",
   "execution_count": 23,
   "metadata": {},
   "outputs": [],
   "source": [
    "#saving data in a txt file\n",
    "file_path = '../datasets/tweets/{0}.txt'.format(datetime.now())\n",
    "with open(file_path, 'wb') as file:\n",
    "    for e in t:\n",
    "        entry = '{0} \\n || \\n '.format(e) #tweet separator\n",
    "        file.write(entry.encode())\n",
    "    file.close()"
   ]
  },
  {
   "cell_type": "code",
   "execution_count": null,
   "metadata": {},
   "outputs": [],
   "source": []
  },
  {
   "cell_type": "code",
   "execution_count": null,
   "metadata": {},
   "outputs": [],
   "source": []
  }
 ],
 "metadata": {
  "kernelspec": {
   "display_name": "Python 3",
   "language": "python",
   "name": "python3"
  },
  "language_info": {
   "codemirror_mode": {
    "name": "ipython",
    "version": 3
   },
   "file_extension": ".py",
   "mimetype": "text/x-python",
   "name": "python",
   "nbconvert_exporter": "python",
   "pygments_lexer": "ipython3",
   "version": "3.7.4"
  }
 },
 "nbformat": 4,
 "nbformat_minor": 2
}
