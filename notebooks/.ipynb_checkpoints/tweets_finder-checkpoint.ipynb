{
 "cells": [
  {
   "cell_type": "code",
   "execution_count": 10,
   "metadata": {},
   "outputs": [],
   "source": [
    "import sys\n",
    "import tweepy\n",
    "sys.path.insert(1, '../../')\n",
    "import keys"
   ]
  },
  {
   "cell_type": "code",
   "execution_count": 11,
   "metadata": {},
   "outputs": [],
   "source": [
    "#api conf\n",
    "auth = tweepy.OAuthHandler(keys.cos_pub, keys.cos_sec)\n",
    "auth.set_access_token(keys.as_pub, keys.as_sec)\n",
    "\n",
    "api = tweepy.API(auth)\n"
   ]
  },
  {
   "cell_type": "code",
   "execution_count": 12,
   "metadata": {},
   "outputs": [
    {
     "data": {
      "text/plain": [
       "['rezando p n cair teste neurológico p mim amanha kkkkkkkkk',\n",
       " 'RT @Bealobato_63: Vai ser lindo o teste de amanhã kk',\n",
       " 'RT @jxanasjg: Eu e as minhas amigas quando dizemos “não percebo nada” e “tou fdd para o teste”  https://t.co/MwaYfIJnsd',\n",
       " 'I got: Tirei\\xa0Não fui cancelado(a)! Duvido você chegar ao final deste teste sem ser cancelado\\nIIRRRAAA https://t.co/NfXMyv7VZ9 via @BuzzFeed',\n",
       " '@fernandesragni @Diana_teste @itsxulia_ @jotapece2 @anacvrol @higorotavios @marques_andyy2 @brumelloslp @King_Maryanna Owwnt 💕💕',\n",
       " '🏆 [TABELA - CHALLENGERS QUALIFY #1] 🏆 \\n\\nOlá atiradores, para este evento teste alcançamos a meta de 8 times e para a surpresa dos que vão participar, quem ficar no top 4, receberão prêmio em BsCoin e para o 1º e 2º… https://t.co/feRJ64BJox',\n",
       " 'Tirei \"Meu daemon é o Dollynho Qual personagem bem brasileiro seria o seu daemon? https://t.co/me2V28rVtg https://t.co/CdQpSVIjm0',\n",
       " 'RT @GomesMarisa15: Rt e tem esta nota no próximo teste! https://t.co/CqgoKZXoM9',\n",
       " '@Elfodendo Não sei, não cheguei a fazer o teste',\n",
       " 'RT @jxanasjg: Eu e as minhas amigas quando dizemos “não percebo nada” e “tou fdd para o teste”  https://t.co/MwaYfIJnsd',\n",
       " 'eu já estava um lixo ainda vem esse teste e me fode todo .... olha.......',\n",
       " '@RodaEssePrimo nem me lembrava que tínhamos teste',\n",
       " 'O teste de cálculo até que nem era muito difícil mano',\n",
       " 'E eu que ganhei um cacto da minha psicóloga pra cuidar dele como um teste pra me ajudar e eu deixei ele morrer porra nem isso eu consigo difícil',\n",
       " 'As novatas surtando com as cenas que saíram do piloto de teste de \"Mami, una mujer ideal\" imagina vendo capadocia.',\n",
       " 'RT @jxanasjg: Eu e as minhas amigas quando dizemos “não percebo nada” e “tou fdd para o teste”  https://t.co/MwaYfIJnsd',\n",
       " '@Fellypepereira1 @juleno_14 Se informe faltam 4 para acertar e os acertos estão muito acima da jurisprudência no Brasil... Aliás vcs já se acertaram com a família do menino Wendel ? \\nhttps://t.co/GyPxa6Mkus',\n",
       " 'Vou ter teste de portugues amanha pff que corra bem 🙏🏻 https://t.co/X1w2QglyNq',\n",
       " 'Vim fazer um teste numa loja aqui do shopping e encontrei os irmãos bertti juro q por essa eu não esperava',\n",
       " 'Se não tiver um esgotamento nervoso a meio do teste vai ser um milagre mesmo',\n",
       " 'RT @jxanasjg: Eu e as minhas amigas quando dizemos “não percebo nada” e “tou fdd para o teste”  https://t.co/MwaYfIJnsd',\n",
       " 'Passei no teste , obrigada senhor por mais essa conquista 🙏🏽❤💸',\n",
       " '@CptSere assistir o replay dessas partidas é um teste pra saber se vc é propício a se tornar um assassino',\n",
       " 'RT @jxanasjg: Eu e as minhas amigas quando dizemos “não percebo nada” e “tou fdd para o teste”  https://t.co/MwaYfIJnsd',\n",
       " 'army que defende \"hate\" em  boneco e army que defende \"hate\" em cachorro. qual das duas vc é?\\n\\nteste do buzzfeed',\n",
       " 'RT @lfigueiras24: Rt e tem esta nota no próximo teste! https://t.co/aLxw7ASWwx',\n",
       " \"RT @ppgarcia75: Mets twittos, nouvelle vidéo !!! 😃 Un produit que je n'avais jamais testé sur la chaîne, un appareil qui sort du lot, total…\",\n",
       " 'RT @jxanasjg: Eu e as minhas amigas quando dizemos “não percebo nada” e “tou fdd para o teste”  https://t.co/MwaYfIJnsd',\n",
       " 'teste',\n",
       " 'RT @jxanasjg: Eu e as minhas amigas quando dizemos “não percebo nada” e “tou fdd para o teste”  https://t.co/MwaYfIJnsd',\n",
       " 'Nem vou falar do teste de português',\n",
       " '@kkeaeflores Eu fiz um teste e deu esse ngc kkk me ajuda com os termos ai q eu nao sei oq significam https://t.co/bLgigClW6y',\n",
       " 'RT @jxanasjg: Eu e as minhas amigas quando dizemos “não percebo nada” e “tou fdd para o teste”  https://t.co/MwaYfIJnsd',\n",
       " 'Testé hier soir avec mademoiselle 9 ans qui a adoré ! Du coup on continue ce soir ✏️ 🎲⚔️🧙\\u200d♀️',\n",
       " 'Não quero de receber o teste de português',\n",
       " 'RT @gomes_zanturi: Joice passou no último teste p ser a Nova Esquerda. A esquerda passa a metade do dia criando o problema e a outra metade…',\n",
       " 'RT @amandinhada027: O diabo resolveu da 3 meses de teste drive pra gente já ir se acostumando',\n",
       " '@brunainthehouse Imagina que nem sei o que sai para o teste kkk sai digrafos?',\n",
       " 'RT @Bealobato_63: Vai ser lindo o teste de amanhã kk',\n",
       " '🏆 [TABELA - CHALLENGERS QUALIFY #1] 🏆\\n\\nOlá atiradores, para este evento teste alcançamos a meta de 8 times e para a surpresa dos que vão participar, quem ficar no top 4, receberão prêmio em BsCoin e para o 1º e 2º… https://t.co/GRBQYeBOV3',\n",
       " 'RT @ishan_suresh: Um gajo está lixado para o teste de matemática😂 hj é noitada😫',\n",
       " '@whosmaari Eu cortei o arroz, mas não cortei carboidrato. Eu substitui. Agora já tô comendo arroz de novo, foi um teste que deu Super certo! Aprendi que alimentação saudável não tem nada a ver com radicalismo.',\n",
       " 'Se eu vende-se teste de gravidez estava 😏',\n",
       " 'RT @cricrihonfleur: 🤣🤣🤣 le \"citadin\" qui teste la marée 😁😁...\\n\\nProverbe côtier ☝🏽..si l’eau est venue ....elle reviendra 😑..😂😂\\n\\n https://t.…',\n",
       " 'quase gabaritei o teste de matemática 😝',\n",
       " 'RT @jxanasjg: Eu e as minhas amigas quando dizemos “não percebo nada” e “tou fdd para o teste”  https://t.co/MwaYfIJnsd',\n",
       " 'RT @jxanasjg: Eu e as minhas amigas quando dizemos “não percebo nada” e “tou fdd para o teste”  https://t.co/MwaYfIJnsd',\n",
       " 'RT @Bealobato_63: Vai ser lindo o teste de amanhã kk',\n",
       " 'RT @marilupus: se homens fossem um teste de deus pra testar minha fé e compaixão eu não seria salva',\n",
       " 'RT @yagoagain: teste buzzfeed\\n\\nqual chamada de revistas com a sandy representa mais sua personalidade https://t.co/Gbantjp4Pj',\n",
       " 'Imaginem fazer as perguntas do teste bem na folha de RASCUNHO mas terem inseguranças de merda e não passar para a folha de prova. Ya, fiz isto duas vezes hoje. Tudo por água abaixo. Adoro a confiança que tenho em mim',\n",
       " 'Quando eu falo que vou estidar pros teste kkkmk https://t.co/L3GxkaeVZF',\n",
       " 'RT @jxanasjg: Eu e as minhas amigas quando dizemos “não percebo nada” e “tou fdd para o teste”  https://t.co/MwaYfIJnsd',\n",
       " '@alissonsdc Teste de figurinos em 2017 (Ela poderia ter ensaiado com o sutiã antes), ela errou a letra em \"você mentiu\" no Rock Um Rio (Pouca gente percebeu), mas o fato é que o show não mudou muito do que ela já estava fazendo, ela basicamente só adicionou uns medleys de última hora...',\n",
       " 'guyssss, pra primeiro teste do secundário 15,6 não é nada mau',\n",
       " 'RT @lfigueiras24: Rt e tem esta nota no próximo teste! https://t.co/aLxw7ASWwx',\n",
       " \"RT @UnivPoitiers: [Y'A PAS PHOTO] 📷\\nOyez oyez étudiant.e.s et diplômé.e.s 📢\\nNous faisons appel à votre fibre nostalgique pour vous préparer…\",\n",
       " 'Auf geht’s, jetzt teste ich @WebSummit die Quantennavigation im Feierabendverkehr. Wie \\u2066@dwavesys\\u2069 und @Volkswagen den Kampf gegen den Stau antreten, habe ich im @Handelsblatt beschrieben. Quantencomputing im Live-Test https://t.co/rCkMjFEvvs',\n",
       " 'RT @jxanasjg: Eu e as minhas amigas quando dizemos “não percebo nada” e “tou fdd para o teste”  https://t.co/MwaYfIJnsd',\n",
       " 'RT @jxanasjg: Eu e as minhas amigas quando dizemos “não percebo nada” e “tou fdd para o teste”  https://t.co/MwaYfIJnsd',\n",
       " '@incenso0nfire Isto não é nenhum teste para me justificar, espera sentada ya',\n",
       " 'beleza, vou comprar uma esponja/bucha fazer um mês de teste veremos se é necessária assim mesmo',\n",
       " 'RT @jxanasjg: Eu e as minhas amigas quando dizemos “não percebo nada” e “tou fdd para o teste”  https://t.co/MwaYfIJnsd',\n",
       " 'Aquele teste vai ser mesmo um gênio maligno, vai me enganar tanto que tiro nega',\n",
       " '@RRodrigocobra Tmj, uma boa cerveja depois do teste?',\n",
       " 'RT @mariiaacorreia: Juro tou completamente fdd para o teste amanhã',\n",
       " '@TaynaStreit Quanto tá um teste?',\n",
       " 'RT @jxanasjg: Eu e as minhas amigas quando dizemos “não percebo nada” e “tou fdd para o teste”  https://t.co/MwaYfIJnsd',\n",
       " 'RT @jxanasjg: Eu e as minhas amigas quando dizemos “não percebo nada” e “tou fdd para o teste”  https://t.co/MwaYfIJnsd',\n",
       " 'RT @Gaby_Martiiiins: Namorada de um cara escreveu ele no teste de fidelidade, ele foi FIEL e no final disse \"Homem q é homem n trai\"  👏👏👏',\n",
       " 'RT @cinemeup: eu no teste de história https://t.co/1j6YluZOET',\n",
       " 'RT @jxanasjg: Eu e as minhas amigas quando dizemos “não percebo nada” e “tou fdd para o teste”  https://t.co/MwaYfIJnsd',\n",
       " '@ojuara_692k Vdd mano! Tou fdd pró teste seja como for',\n",
       " 'RT @lfigueiras24: Rt e tem esta nota no próximo teste! https://t.co/aLxw7ASWwx',\n",
       " '@SVGetulismo Nome do teste, por favor...',\n",
       " 'RT @nuno_nfc: A stora de fundamentos com este trabalho e um mini teste para a semana, deve pensar que nós não temos mais nada para fazer a…',\n",
       " 'teste',\n",
       " '@igornapol Agora pareceu promissor, deixei baixando o teste de 10 horas, vejamos como está no one x.',\n",
       " 'Eu perante o teste de amanhã: https://t.co/5xEBuX0yin',\n",
       " 'RT @mariandgomes: Teste correu-me demasiado bem para ser verdade',\n",
       " 'RT @AEN_78: On teste et on apprend à prendre en main la programmation d’un robot. #AEN78  👉toutes les présentions seront disponibles sur le…',\n",
       " 'cheguei atrasada \\nesqueci meu caderno \\nperdi o teste de física \\nvou perder visto de química \\n\\npequeno dia!! 👍🏼👍🏼',\n",
       " 'RT @jxanasjg: Eu e as minhas amigas quando dizemos “não percebo nada” e “tou fdd para o teste”  https://t.co/MwaYfIJnsd',\n",
       " 'é vdd eu fiz o teste o dia so começa depois que vc escuta skyfall',\n",
       " 'RT @diogoquintino17: Quando vir a minha nota do teste de português https://t.co/dVdnud6yB6',\n",
       " '@ingidish 5x fazendo esse teste e ainda sasha e eu',\n",
       " 'Eu tenho uma dislexia tão foda, que fui responder o teste da minha amiga GEMINIANA e coloquei que o aniversário dela era 13/09 PQ EU LI 13/06 e onde era o certo eu li 13/09',\n",
       " 'Com esse teste do Nexo Jornal eu to oficialmente entre os top 11% do país. E to tendo que contar as moedas pra ter o que comer depois de comprar as coisas da minha filha (eu posso passar fome, ela não! Então o dela vem primeiro).\\nMa, que caralha de realidade louca!',\n",
       " 'RT @jxanasjg: Eu e as minhas amigas quando dizemos “não percebo nada” e “tou fdd para o teste”  https://t.co/MwaYfIJnsd',\n",
       " 'RT @rafaelalemos04: - já estou a compreender a matéria \\n- teste: a\\neu: https://t.co/DllM5LmTK1',\n",
       " 'RT @aaquilinhos: Como a stora diz que o teste vai ser // Como o teste realmente é... https://t.co/EgoZA29uJq',\n",
       " '@anchara_ Supplément fromage ? Jamais fais pour moi, je vais testé grâce a toi !',\n",
       " 'RT @jxanasjg: Eu e as minhas amigas quando dizemos “não percebo nada” e “tou fdd para o teste”  https://t.co/MwaYfIJnsd',\n",
       " 'RT @pedrodcvvinhas: Foi o que escrevi na composição do teste de filosofia https://t.co/nEqrLyWY4J',\n",
       " 'RT @__dannyac_: Fazer educação física // teste do vaivém + condição fisica https://t.co/tWsUILCbA8',\n",
       " \"RT @UnivPoitiers: [Y'A PAS PHOTO] 📷\\nOyez oyez étudiant.e.s et diplômé.e.s 📢\\nNous faisons appel à votre fibre nostalgique pour vous préparer…\",\n",
       " 'RT @RuneterraBrasil: \"Todos precisam encarar seus medos. Sorte sua que estou bem aqui.\" — Lucian, Campeão de Demacia.\\n\\nInscreva-se e tenha…',\n",
       " 'eu tenho teste amanhã de filosofia e eu nem sei ao certo o que tamos a dar',\n",
       " 'RT @jxanasjg: Eu e as minhas amigas quando dizemos “não percebo nada” e “tou fdd para o teste”  https://t.co/MwaYfIJnsd',\n",
       " 'ter que vestir roupas nesse calor que faz durante o dia é um teste de resistencia pra mim']"
      ]
     },
     "execution_count": 12,
     "metadata": {},
     "output_type": "execute_result"
    }
   ],
   "source": [
    "#getting data\n",
    "searchTerm = 'teste'\n",
    "tmpSearch = api.search(q = searchTerm,tweet_mode='extended', count = 100, language = 'pt-BR', retweeted = False, reply = False)\n",
    "\n",
    "\n",
    "txtResult = [];\n",
    "for prop in tmpSearch:\n",
    "    txtResult.append(prop._json['full_text'])\n",
    "\n",
    "len(txtResult)\n",
    "txtResult\n"
   ]
  },
  {
   "cell_type": "code",
   "execution_count": 13,
   "metadata": {},
   "outputs": [],
   "source": [
    "#saving data in a txt file\n",
    "filePath = '../datasets/tweets/{0}.txt'.format(searchTerm)\n",
    "with open(filePath, 'wb') as file:\n",
    "    for line in txtResult:\n",
    "        entry = '{0} \\n || \\n '.format(line) #tweets divisor\n",
    "        file.write(entry.encode())\n",
    "    file.close()"
   ]
  },
  {
   "cell_type": "code",
   "execution_count": null,
   "metadata": {},
   "outputs": [],
   "source": []
  },
  {
   "cell_type": "code",
   "execution_count": null,
   "metadata": {},
   "outputs": [],
   "source": []
  }
 ],
 "metadata": {
  "kernelspec": {
   "display_name": "Python 3",
   "language": "python",
   "name": "python3"
  },
  "language_info": {
   "codemirror_mode": {
    "name": "ipython",
    "version": 3
   },
   "file_extension": ".py",
   "mimetype": "text/x-python",
   "name": "python",
   "nbconvert_exporter": "python",
   "pygments_lexer": "ipython3",
   "version": "3.7.4"
  }
 },
 "nbformat": 4,
 "nbformat_minor": 2
}
