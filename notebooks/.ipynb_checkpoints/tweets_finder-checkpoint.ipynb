{
 "cells": [
  {
   "cell_type": "code",
   "execution_count": 82,
   "metadata": {},
   "outputs": [],
   "source": [
    "import sys\n",
    "import tweepy\n",
    "sys.path.insert(1, '../../')\n",
    "import keys"
   ]
  },
  {
   "cell_type": "code",
   "execution_count": 83,
   "metadata": {},
   "outputs": [],
   "source": [
    "#api conf\n",
    "auth = tweepy.OAuthHandler(keys.cos_pub, keys.cos_sec)\n",
    "auth.set_access_token(keys.as_pub, keys.as_sec)\n",
    "\n",
    "api = tweepy.API(auth)\n"
   ]
  },
  {
   "cell_type": "code",
   "execution_count": 84,
   "metadata": {},
   "outputs": [
    {
     "name": "stdout",
     "output_type": "stream",
     "text": [
      "['RT @Geovani48066836: O meu mundo azul\\nFoi ficando aos poucos cor de ROSA\\nQuando um pedacinho de gente que cabia em minha mão\\nTransbordou de…', '@0917daniela yo mi amor', 'A MEIA E O BATOM PELO AMOR DE DEUS COMO ASSIM https://t.co/MI4tjpSseX', 'RT @vi_ccl2: Nina: Finge que eu sou só uma empregada nessa casa\\n\\nJorginho: Você não é só uma empregada, é o amor da minha vida, eu te amo…', 'RT @SuavesLomitos: Yo lanzándome nuevamente al amor… https://t.co/eh1QW12uMg', 'RT @DjDianamedina: Sabes que amas mucho a alguien porque cuando te pasa algo lindo se lo quieres contar. Y cuando te pasa algo malo, igual.…', '@Daigfe_PG Te_perd0no¡\\n\\nSiempre lo haré amor', \"RT @laprovincia_es: Alicia Llarena (@AliciaLlarena ) presenta en la Casa de Colón (@casadecolon ) su último poemario, 'El amor ciego' https…\", '@giawjennie pelo amor de deus', 'RT @pedrocareal: pra namorar cmg tem que entender que uma hora é mano e na outra é amor', 'RT @__mardenise: que alguien te cocine me parece un acto de amor hermoso en cualquier relación, ya sea amistad o pareja https://t.co/GFdZdO…', '@byunwait essa au é um amor https://t.co/APyCzmqyv2', 'Eu conheci a malandragem da rua e o amor de uma mulher...', '@kaylanesousa_ só se for de amor ne', 'RT @lotivictoria1: El amor es lo más hermoso del mundo, las personas son una pija y no lo saben cuidar https://t.co/GmCQ01DxYR', 'RT @mandi_andi: Amigos desse Twitter \\n\\nVenho aqui de novo pedir aquele RT do amor \\n\\nEu sou bacharel em Arquiteura, mestre em História da Ar…', 'Sou um amor e depois vocês cagam mim, certo!', 'RT @latidosdelrock: Tenerte, darte amor y ser feliz.', 'RT @narutxs: acabei de ouvir que lesbicas sao mais aceitas socialmente do que gays\\n\\ngente NÃO \\nnós não somos vistas como casal, nós somos v…', 'n aguento mais ter que ir pra bom jesus e não aguento mais ter que ficar em apiacá, vem logo férias pelo amor de deus.', '@ShawnMendes Divinooo mi amor💗', '[5/11 17:08] Laura Morais: amor, cadê vc pra fazer hidratação no meu cabelo?\\n[5/11 17:09] Laura Morais: tá nescessitando com urgência\\n[5/11 17:16]: me chama que eu vou neném, quando vc quiser \\n\\nafeeeee', '@avrilmidia @AvrilLavigne @KeshaRose AMOOOOOOOO, vou explodir de tanto amor ❤❤❤🥰🥰🥰🥰🥰', 'cuando digo que es el amor de mi vida, es porque lleva 12 años siéndolo✨ la princesa de la casa🤩 https://t.co/ZlkUAXHfSp', 'RT @jose_simao: “EUA mantêm veto à carne bovina do Brasil e frustam Bolsonaro”. Promessas quebradas! Amor não correspondido! \\nDo Bolsonaro,…', 'RT @MashiRafael: ¡Fuerza, Virgilio querido!\\nLa verdad vencerá a la mentira.\\nEl amor derrotará al odio.\\nLa esperanza prevalecerá sobre el te…', 'RT @jessiicabrunoo: Eu quero ver o dia em que eu vou estar em casa e vou dizer: \" Agora queria mesmo ler algumas cantigas de amigo e de amo…', 'Yo creo que nadie nunca me va mirar con tanto amor como mi perro cuando le rasco la barba.', 'RT @pedrocareal: pra namorar cmg tem que entender que uma hora é mano e na outra é amor', 'RT @SintoniaVerso: Ei amor, falei de ti pra Deus, sabia?', 'dejemos un lado mi penita para subir esto, se nota lo mucho que se aman y respetan. Su amor es el más bonito y real que hay https://t.co/yRZjjO8wIv', 'RT @AKAHiletrado: Aquel, aquel que, no fue ni tu novio ni tu marido ni tu amante, ha sido quien más te ha querido y con eso mi amor, con es…', '@brendaoliversv Já está bom de chuva amor kkkk', 'RT @alfredo15489: \" El amor a tí mismo no es egoísmo, es lealtad a tu ser\". https://t.co/Vq4H8IHydR', 'Me envolve todo no seu olhar, me dá todo seu corpo pra mim, eu quero pra você me entregar nesse amor sem fim..', '@jujunerias450 @rafaelademelo36 @Morenasapeca1 @VDeslumbr Adorei amor te chupo todinha até vc gozar gostoso na minha língua gostosa', 'RT @karladiane_: Mi mamá, el amor de mi vida, lo mejor que tengo en el mundo, tocó campana hoy y no tengo palabras para explicar la felicid…', 'RT @pedrocareal: pra namorar cmg tem que entender que uma hora é mano e na outra é amor', 'RT @diegosalher: Años de amor han sido olvidados, en el odio de un minuto...', 'RT @mandi_andi: Amigos desse Twitter \\n\\nVenho aqui de novo pedir aquele RT do amor \\n\\nEu sou bacharel em Arquiteura, mestre em História da Ar…', 'RT @mayaraacardos: Najwa meu amor o Brasil está de portas abertas, só vem 😘 #NajwaenBrasil2020', 'RT @oracion_milagro: ES MARTES: AMADO DIOS, en tus manos encomiendo este nuevo día. Por favor ilumina con tu luz mi camino, colma mi vida d…', 'RT @Frases_RockN: Si no hay amor, que no haya nada..', 'RT @marianaagomes2: É que ninguém ,absolutamente ninguém quer saber das cantigas de amor e de amigo !!', 'RT @Clarinhac24: @rayccrf Meu amor ❤', 'RT @krencastrellon: ESTO ME LLENA EL ALMA Y EL CORAZÓN DE MUCHO ORGULLO!\\n@LuceroMexico felicidades, mi amor 🥺❤\\n\\n#Lucero #MarcaLucero https:…', '@dayanedollago Saudade, meu amor', 'RT @Moltivar: Soy el fuego que arde tu piel\\nSoy el agua que mata tu sed\\nEl castillo, la torre yo soy\\nLa espada que guarda el caudal\\n\\nTu el…', 'eu amo ver casais felizes, eu n sei pq, mas fico feliz em ver o amor no ar tlg, ai n sei explicar', 'Te necesito tanto amor, dulce veneno de dolor❤️', 'aMOR.', '@adulteressamber Lindo videito mi amor', 'RT @pedrocareal: pra namorar cmg tem que entender que uma hora é mano e na outra é amor', 'RT @BTSNewsBrasil: 📽️ Como não morrer de amor com Hobi fazendo mímica?🥺\\n\\n@BTS_twt #BTS #MAMAVOTE https://t.co/TFmN5Z3FdA', '@BrunoDallavech1 ah pelo amor de deus', 'No sé ruega amistad ni amor a nadie..!', 'RT @Geovani48066836: O meu mundo azul\\nFoi ficando aos poucos cor de ROSA\\nQuando um pedacinho de gente que cabia em minha mão\\nTransbordou de…', 'RT @SolArguello_: el amor de mi vida https://t.co/xrMrNnd5UK', 'RT @Geovani48066836: O meu mundo azul\\nFoi ficando aos poucos cor de ROSA\\nQuando um pedacinho de gente que cabia em minha mão\\nTransbordou de…', 'M’appelle pas mi amor on s’était dit à La Muerte', 'RT @werevertumorro: RT si tienes un amor así https://t.co/1UWnE8WK1N', 'RT @MandaleRock: ¿Alguna vez se pusieron a pensar lo doloroso que es esperar? Esperar que una persona reaccione como nos gustaría, esperar…', 'RT @bayek_of: En lugar de enfocarte en tus fracasos, carencias y debilidades, concéntrate en lo que sí tienes y en lo que deseas lograr.\\n\\nE…', 'RT @lotivictoria1: El amor es lo más hermoso del mundo, las personas son una pija y no lo saben cuidar https://t.co/GmCQ01DxYR', 'RT @pedrocareal: pra namorar cmg tem que entender que uma hora é mano e na outra é amor', 'RT @taniasandinista: Las palabras del pueblo sencillo.Son las+leales. Las+ nobles.Este es el sentir del pueblo Boliviano,el q sabe q las re…', 'RT @SintoniaVerso: Ei amor, falei de ti pra Deus, sabia?', 'RT @GuchisBiased: Espero que puedas sentir todo el amor que te tenemos, eres una hermosa persona 💕💕\\n#WeWinForMonstaX7\\n#넘어져도_다시_일어나\\n@Officia…', 'RT @Guarromantico_: Si no sueltas a tu ex, ¿con qué mano piensas agarrar al amor de tu vida?”', 'RT @AquiPeixes: #Peixes Era amor, era apego, era ciúme, era tudo. Agora é saudade', 'RT @karladiane_: Mi mamá, el amor de mi vida, lo mejor que tengo en el mundo, tocó campana hoy y no tengo palabras para explicar la felicid…', 'RT @SuavesLomitos: Yo lanzándome nuevamente al amor… https://t.co/eh1QW12uMg', 'RT @TDenisseNavarr1: #ContigoVirgilioHernández \\nLo respaldamos compañero @virgiliohernand ante todas las injusticias realizadas en su contr…', 'RT @LuuRodriguez97: Necesito encontrarles hogar, asi podemos seguir ayudando a otros animalitos ❤️\\nSon gatitos de 40 dias (basicamente bols…', 'RT @pedrocareal: pra namorar cmg tem que entender que uma hora é mano e na outra é amor', '@Jan_RxM Entonces lo dire!..\\nEres un amor!..😍\\nYa lo dije !..😏', 'RT @MashiRafael: ¡Fuerza, Virgilio querido!\\nLa verdad vencerá a la mentira.\\nEl amor derrotará al odio.\\nLa esperanza prevalecerá sobre el te…', 'Pequenas coisas que me fazem acreditar no amor', 'RT @pedrocareal: pra namorar cmg tem que entender que uma hora é mano e na outra é amor', 'RT @jose_simao: “EUA mantêm veto à carne bovina do Brasil e frustam Bolsonaro”. Promessas quebradas! Amor não correspondido! \\nDo Bolsonaro,…', 'RT @vaipOcrl__: Sou um amor mas também consigo ser gd cabra, não me testem kkkkk', '😺✏ — amor https://t.co/h98jvtWwDo', 'RT @LostLovelis: 夏 JongSang 夏 \\n\\n冬 Essa é a história de como um arcanjo cedeu ao seu lado humano. Como a humanidade tomou conta de si a pont…', 'RT @israelmdst: Pelo amor de Deus galera do Rio de Janeiro São Gonçalo meu avô acaba de sumir! Ele tem Alzheimer e é diabético, está desapa…', 'RT @jmjkfate: \"Así que estamos en este desastre, en este hermoso desastre ésta noche...\\n \\nY no tenemos nada que perder\\nNo importa lo que di…', 'RT @lotivictoria1: El amor es lo más hermoso del mundo, las personas son una pija y no lo saben cuidar https://t.co/GmCQ01DxYR', '@whotfslaura Eu nao o uso anjinho tipo eventualmente esse vai ficar sem gás entao guardas este amor', 'RT @omarmontesSr: No te enamores el amor es una trampa. Excepto si es de mi, si es de mi no pasa na... xk puedo ponerte comentarios bonitos…', 'RT @personasuga: Eu vou EXPLODIR DE AMOR POR MIN YOONGI 😭 @BTS_twt https://t.co/ovBxtWGSY2', '@vanebp19 Por ambos lados mi amor 😍', '@opsonelarry @umvesgo Vou usar pra me canditar a vaga de amor da sua vida', 'RT @frasesdebebada: quando seu amor esta ocupado e vc quer toda a atenção do mundo porem tem que entender https://t.co/zVLh1y9I12', 'papá exijo una prueba de tu ADN\\n\\nAmor\\nDinero \\nNdinero', 'RT @somos1conDios: Decreta;\\nAsí como el aire que respiro, así llegan las oportunidades laborales para que yo escoja, desde ya me siento fue…', 'RT @mgdelaf: Gracias Boudou por otro día de abrazos, risas y amor! Te amamos! #fuerteyenpaz', 'RT @IMVillarroel: Con el más elevado sentimiento de amor, realizamos inspección en Villas de San Antonio edo. #Cojedes, junto a la Gob. @Ma…', 'PELO AMOR DE DEUS EU PASSO MUITO MAL COM A ANA JAJKAKSKKSKK TE AMO ENTENDAAA\\n#MeuCoracaoETeu002', 'acho que o amor de minha vida não nasceu ainda', 'RT @frasesdebebada: quando seu amor esta ocupado e vc quer toda a atenção do mundo porem tem que entender https://t.co/zVLh1y9I12', '@dudaluazinha Voltei nada amor, sonhoo']\n"
     ]
    }
   ],
   "source": [
    "#getting data\n",
    "searchTerm = 'amor'\n",
    "tmpSearch = api.search(q = searchTerm,tweet_mode='extended', count = 100, language = 'pt-BR')\n",
    "\n",
    "\n",
    "txtResult = [];\n",
    "for prop in tmpSearch:\n",
    "    txtResult.append(prop._json['full_text'])\n",
    "    \n",
    "print(txtResult)\n"
   ]
  },
  {
   "cell_type": "code",
   "execution_count": 86,
   "metadata": {},
   "outputs": [
    {
     "name": "stdout",
     "output_type": "stream",
     "text": [
      "0\n",
      "1\n",
      "2\n",
      "3\n",
      "4\n",
      "5\n",
      "6\n",
      "7\n",
      "8\n",
      "9\n",
      "10\n",
      "11\n",
      "12\n",
      "13\n",
      "14\n",
      "15\n",
      "16\n",
      "17\n",
      "18\n",
      "19\n",
      "20\n",
      "21\n",
      "22\n",
      "23\n",
      "24\n",
      "25\n",
      "26\n",
      "27\n",
      "28\n",
      "29\n",
      "30\n",
      "31\n",
      "32\n",
      "33\n",
      "34\n",
      "35\n",
      "36\n",
      "37\n",
      "38\n",
      "39\n",
      "40\n",
      "41\n",
      "42\n",
      "43\n",
      "44\n",
      "45\n",
      "46\n",
      "47\n",
      "48\n",
      "49\n",
      "50\n",
      "51\n",
      "52\n",
      "53\n",
      "54\n",
      "55\n",
      "56\n",
      "57\n",
      "58\n",
      "59\n",
      "60\n",
      "61\n",
      "62\n",
      "63\n",
      "64\n",
      "65\n",
      "66\n",
      "67\n",
      "68\n",
      "69\n",
      "70\n",
      "71\n",
      "72\n",
      "73\n",
      "74\n",
      "75\n",
      "76\n",
      "77\n",
      "78\n",
      "79\n",
      "80\n",
      "81\n",
      "82\n",
      "83\n",
      "84\n",
      "85\n",
      "86\n",
      "87\n",
      "88\n",
      "89\n",
      "90\n",
      "91\n",
      "92\n",
      "93\n",
      "94\n",
      "95\n",
      "96\n",
      "97\n",
      "98\n",
      "99\n"
     ]
    }
   ],
   "source": [
    "#saving data in a txt file\n",
    "filePath = '../datasets/tweets/{0}.txt'.format(searchTerm)\n",
    "with open(filePath, 'wb') as file:\n",
    "    for line in txtResult:\n",
    "        entry = 'tweet{0}$||\\n'.format(line)\n",
    "        file.write(entry.encode())"
   ]
  },
  {
   "cell_type": "code",
   "execution_count": null,
   "metadata": {},
   "outputs": [],
   "source": []
  },
  {
   "cell_type": "code",
   "execution_count": null,
   "metadata": {},
   "outputs": [],
   "source": []
  }
 ],
 "metadata": {
  "kernelspec": {
   "display_name": "Python 3",
   "language": "python",
   "name": "python3"
  },
  "language_info": {
   "codemirror_mode": {
    "name": "ipython",
    "version": 3
   },
   "file_extension": ".py",
   "mimetype": "text/x-python",
   "name": "python",
   "nbconvert_exporter": "python",
   "pygments_lexer": "ipython3",
   "version": "3.7.4"
  }
 },
 "nbformat": 4,
 "nbformat_minor": 2
}
